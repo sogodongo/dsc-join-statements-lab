{
 "cells": [
  {
   "cell_type": "markdown",
   "metadata": {},
   "source": [
    "# Join Statements - Lab\n",
    "\n",
    "## Introduction\n",
    "\n",
    "In this lab, you'll practice your knowledge of `JOIN` statements, using various types of joins and various methods for specifying the links between them.\n",
    "\n",
    "## Objectives\n",
    "\n",
    "You will be able to:\n",
    "\n",
    "* Write SQL queries that make use of various types of joins\n",
    "* Compare and contrast the various types of joins\n",
    "* Discuss how primary and foreign keys are used in SQL\n",
    "* Decide and perform whichever type of join is best for retrieving desired data"
   ]
  },
  {
   "cell_type": "markdown",
   "metadata": {},
   "source": [
    "## CRM ERD\n",
    "\n",
    "In this lab, you'll use the same customer relationship management (CRM) database that you saw from the previous lesson.\n",
    "<img src='images/Database-Schema.png' width=\"600\">"
   ]
  },
  {
   "cell_type": "markdown",
   "metadata": {},
   "source": [
    "## Connecting to the Database\n",
    "Import the necessary packages and connect to the database `'data.sqlite'`."
   ]
  },
  {
   "cell_type": "code",
   "execution_count": 2,
   "metadata": {},
   "outputs": [],
   "source": [
    "import sqlite3\n",
    "import pandas as pd\n",
    "conn = sqlite3.connect('data.sqlite')\n"
   ]
  },
  {
   "cell_type": "markdown",
   "metadata": {},
   "source": [
    "## Select the names of all employees in Boston \n",
    "\n",
    "Hint: join the employees and offices tables. Select the first and last name."
   ]
  },
  {
   "cell_type": "code",
   "execution_count": 3,
   "metadata": {},
   "outputs": [
    {
     "name": "stdout",
     "output_type": "stream",
     "text": [
      "  firstName   lastName\n",
      "0     Julie   Firrelli\n",
      "1     Steve  Patterson\n"
     ]
    }
   ],
   "source": [
    "# SQL query to select names of all employees in Boston\n",
    "query = \"\"\"\n",
    "SELECT employees.firstName, employees.lastName\n",
    "FROM employees\n",
    "JOIN offices ON employees.officeCode = offices.officeCode\n",
    "WHERE offices.city = 'Boston'\n",
    "\"\"\"\n",
    "\n",
    "\n",
    "results = pd.read_sql(query, conn)\n",
    "\n",
    "\n",
    "print(results)\n"
   ]
  },
  {
   "cell_type": "markdown",
   "metadata": {},
   "source": [
    "## Are there any offices that have zero employees?\n",
    "Hint: Combine the employees and offices tables and use a group by. Select the office code, city, and number of employees."
   ]
  },
  {
   "cell_type": "code",
   "execution_count": 6,
   "metadata": {},
   "outputs": [
    {
     "name": "stdout",
     "output_type": "stream",
     "text": [
      "   officeCode    city  numEmployees\n",
      "0          27  Boston             0\n"
     ]
    }
   ],
   "source": [
    "# SQL query to find offices with zero employees\n",
    "query = \"\"\"\n",
    "SELECT offices.officeCode, offices.city, COUNT(employees.employeeNumber) AS numEmployees\n",
    "FROM offices\n",
    "LEFT JOIN employees ON offices.officeCode = employees.officeCode\n",
    "GROUP BY offices.officeCode, offices.city\n",
    "HAVING numEmployees = 0\n",
    "\"\"\"\n",
    "\n",
    "\n",
    "results = pd.read_sql_query(query, conn)\n",
    "\n",
    "\n",
    "print(results)\n"
   ]
  },
  {
   "cell_type": "markdown",
   "metadata": {},
   "source": [
    "## Write 3 questions of your own and answer them"
   ]
  },
  {
   "cell_type": "code",
   "execution_count": 9,
   "metadata": {},
   "outputs": [
    {
     "data": {
      "text/plain": [
       "'\\nHow many customers are there per office?\\n'"
      ]
     },
     "execution_count": 9,
     "metadata": {},
     "output_type": "execute_result"
    }
   ],
   "source": [
    "# Answers will vary\n",
    "\n",
    "# Example question: \n",
    "\"\"\"\n",
    "How many customers are there per office?\n",
    "\"\"\""
   ]
  },
  {
   "cell_type": "code",
   "execution_count": 10,
   "metadata": {},
   "outputs": [
    {
     "name": "stdout",
     "output_type": "stream",
     "text": [
      "                       customerName  totalSales\n",
      "0                 Atelier graphique    22314.36\n",
      "1                Signal Gift Stores    80180.98\n",
      "2        Australian Collectors, Co.   180585.07\n",
      "3                 La Rochelle Gifts   116949.68\n",
      "4                Baane Mini Imports   104224.79\n",
      "..                              ...         ...\n",
      "117    Motor Mint Distributors Inc.    77726.59\n",
      "118        Signal Collectibles Ltd.    42570.37\n",
      "119  Double Decker Gift Stores, Ltd    29586.15\n",
      "120            Diecast Collectables    65541.74\n",
      "121               Kelly's Gift Shop   114497.19\n",
      "\n",
      "[122 rows x 2 columns]\n"
     ]
    }
   ],
   "source": [
    "#Question 1: What is the total sales amount for each customer?\n",
    "\n",
    "# SQL query to calculate total sales amount for each customer\n",
    "query = \"\"\"\n",
    "SELECT customers.customerName, SUM(payments.amount) AS totalSales\n",
    "FROM customers\n",
    "LEFT JOIN payments ON customers.customerNumber = payments.customerNumber\n",
    "GROUP BY customers.customerNumber\n",
    "\"\"\"\n",
    "\n",
    "results = pd.read_sql_query(query, conn)\n",
    "\n",
    "\n",
    "print(results)\n"
   ]
  },
  {
   "cell_type": "code",
   "execution_count": 11,
   "metadata": {},
   "outputs": [
    {
     "name": "stdout",
     "output_type": "stream",
     "text": [
      "         productName\n",
      "0  1985 Toyota Supra\n"
     ]
    }
   ],
   "source": [
    "#Question 2: Which products have not been ordered yet?\n",
    "# SQL query to find products that have not been ordered yet\n",
    "query = \"\"\"\n",
    "SELECT products.productName\n",
    "FROM products\n",
    "LEFT JOIN orderdetails ON products.productCode = orderdetails.productCode\n",
    "WHERE orderdetails.orderNumber IS NULL\n",
    "\"\"\"\n",
    "\n",
    "results = pd.read_sql_query(query, conn)\n",
    "\n",
    "\n",
    "print(results)\n"
   ]
  },
  {
   "cell_type": "code",
   "execution_count": 12,
   "metadata": {},
   "outputs": [
    {
     "name": "stdout",
     "output_type": "stream",
     "text": [
      "         country  averageCreditLimit\n",
      "0      Australia        86060.000000\n",
      "1        Austria        58500.000000\n",
      "2        Belgium        51700.000000\n",
      "3         Canada        76200.000000\n",
      "4        Denmark       102100.000000\n",
      "5        Finland        95266.666667\n",
      "6         France        77691.666667\n",
      "7        Germany        19776.923077\n",
      "8      Hong Kong        58600.000000\n",
      "9        Ireland        34700.000000\n",
      "10        Israel            0.000000\n",
      "11         Italy        97200.000000\n",
      "12         Japan        87800.000000\n",
      "13   Netherlands            0.000000\n",
      "14   New Zealand        90625.000000\n",
      "15        Norway        81700.000000\n",
      "16      Norway          95950.000000\n",
      "17   Philippines        81500.000000\n",
      "18        Poland            0.000000\n",
      "19      Portugal            0.000000\n",
      "20        Russia            0.000000\n",
      "21     Singapore        67233.333333\n",
      "22  South Africa            0.000000\n",
      "23         Spain        73971.428571\n",
      "24        Sweden        84750.000000\n",
      "25   Switzerland        47100.000000\n",
      "26            UK        88740.000000\n",
      "27           USA        78102.777778\n"
     ]
    }
   ],
   "source": [
    "#Question 3: What is the average credit limit for customers in each country?\n",
    "\n",
    "# SQL query to calculate the average credit limit for customers in each country\n",
    "query = \"\"\"\n",
    "SELECT customers.country, AVG(customers.creditLimit) AS averageCreditLimit\n",
    "FROM customers\n",
    "GROUP BY customers.country\n",
    "\"\"\"\n",
    "\n",
    "results = pd.read_sql_query(query, conn)\n",
    "\n",
    "print(results)\n"
   ]
  },
  {
   "cell_type": "markdown",
   "metadata": {},
   "source": [
    "## Level Up 1: Display the names of every individual product that each employee has sold\n",
    "\n",
    "Hint: You will need to use multiple `JOIN` clauses to connect all the way from employee names to product names."
   ]
  },
  {
   "cell_type": "code",
   "execution_count": null,
   "metadata": {},
   "outputs": [],
   "source": [
    "# Your code here"
   ]
  },
  {
   "cell_type": "markdown",
   "metadata": {},
   "source": [
    "## Level Up 2: Display the number of products each employee has sold\n",
    "\n",
    "Alphabetize the results by employee last name.\n",
    "\n",
    "Hint: Use the `quantityOrdered` column from `orderDetails`. Also, think about how to group the data when some employees might have the same first or last name."
   ]
  },
  {
   "cell_type": "code",
   "execution_count": 13,
   "metadata": {},
   "outputs": [
    {
     "name": "stdout",
     "output_type": "stream",
     "text": [
      "     firstName  lastName                                  productName\n",
      "0       Leslie  Jennings                               1958 Setra Bus\n",
      "1       Leslie  Jennings                       1940 Ford Pickup Truck\n",
      "2       Leslie  Jennings                      1939 Cadillac Limousine\n",
      "3       Leslie  Jennings  1996 Peterbilt 379 Stake Bed with Outrigger\n",
      "4       Leslie  Jennings                            1968 Ford Mustang\n",
      "...        ...       ...                                          ...\n",
      "2991    Martin    Gerard                  1954 Greyhound Scenicruiser\n",
      "2992    Martin    Gerard       1950's Chicago Surface Lines Streetcar\n",
      "2993    Martin    Gerard             Diamond T620 Semi-Skirted Tanker\n",
      "2994    Martin    Gerard                           1911 Ford Town Car\n",
      "2995    Martin    Gerard             1936 Mercedes Benz 500k Roadster\n",
      "\n",
      "[2996 rows x 3 columns]\n"
     ]
    }
   ],
   "source": [
    "# SQL query to select names of every individual product that each employee has sold\n",
    "query = \"\"\"\n",
    "SELECT employees.firstName, employees.lastName, products.productName\n",
    "FROM employees\n",
    "JOIN customers ON employees.employeeNumber = customers.salesRepEmployeeNumber\n",
    "JOIN orders ON customers.customerNumber = orders.customerNumber\n",
    "JOIN orderdetails ON orders.orderNumber = orderdetails.orderNumber\n",
    "JOIN products ON orderdetails.productCode = products.productCode\n",
    "\"\"\"\n",
    "\n",
    "results = pd.read_sql_query(query, conn)\n",
    "\n",
    "\n",
    "print(results)\n"
   ]
  },
  {
   "cell_type": "markdown",
   "metadata": {},
   "source": [
    "## Level Up 3: Display the names employees who have sold more than 200 different products\n",
    "\n",
    "Hint: this is different from the previous question because the quantity sold doesn't matter, only the number of different products"
   ]
  },
  {
   "cell_type": "code",
   "execution_count": 14,
   "metadata": {},
   "outputs": [
    {
     "name": "stdout",
     "output_type": "stream",
     "text": [
      "Empty DataFrame\n",
      "Columns: [firstName, lastName]\n",
      "Index: []\n"
     ]
    }
   ],
   "source": [
    "# SQL query to select names of employees who have sold more than 200 different products\n",
    "query = \"\"\"\n",
    "SELECT employees.firstName, employees.lastName\n",
    "FROM employees\n",
    "JOIN customers ON employees.employeeNumber = customers.salesRepEmployeeNumber\n",
    "JOIN orders ON customers.customerNumber = orders.customerNumber\n",
    "JOIN orderdetails ON orders.orderNumber = orderdetails.orderNumber\n",
    "GROUP BY employees.employeeNumber\n",
    "HAVING COUNT(DISTINCT orderdetails.productCode) > 200\n",
    "\"\"\"\n",
    "\n",
    "results = pd.read_sql_query(query, conn)\n",
    "\n",
    "print(results)\n"
   ]
  },
  {
   "cell_type": "code",
   "execution_count": 15,
   "metadata": {},
   "outputs": [],
   "source": [
    "conn.commit()"
   ]
  },
  {
   "cell_type": "code",
   "execution_count": 16,
   "metadata": {},
   "outputs": [],
   "source": [
    "conn.close()"
   ]
  },
  {
   "cell_type": "markdown",
   "metadata": {},
   "source": [
    "## Summary"
   ]
  },
  {
   "cell_type": "markdown",
   "metadata": {},
   "source": [
    "Congrats! You practiced using join statements and leveraged your foreign keys knowledge!"
   ]
  }
 ],
 "metadata": {
  "kernelspec": {
   "display_name": "saturn (Python 3)",
   "language": "python",
   "name": "python3"
  },
  "language_info": {
   "codemirror_mode": {
    "name": "ipython",
    "version": 3
   },
   "file_extension": ".py",
   "mimetype": "text/x-python",
   "name": "python",
   "nbconvert_exporter": "python",
   "pygments_lexer": "ipython3",
   "version": "3.10.6"
  },
  "toc": {
   "base_numbering": 1,
   "nav_menu": {},
   "number_sections": true,
   "sideBar": true,
   "skip_h1_title": false,
   "title_cell": "Table of Contents",
   "title_sidebar": "Contents",
   "toc_cell": false,
   "toc_position": {},
   "toc_section_display": true,
   "toc_window_display": false
  }
 },
 "nbformat": 4,
 "nbformat_minor": 2
}
